{
 "cells": [
  {
   "cell_type": "code",
   "execution_count": 41,
   "metadata": {},
   "outputs": [],
   "source": [
    "%matplotlib inline\n"
   ]
  },
  {
   "cell_type": "code",
   "execution_count": 15,
   "metadata": {},
   "outputs": [],
   "source": [
    "import matplotlib.pyplot as plt"
   ]
  },
  {
   "cell_type": "code",
   "execution_count": 35,
   "metadata": {},
   "outputs": [
    {
     "data": {
      "application/javascript": [
       "/* Put everything inside the global mpl namespace */\n",
       "window.mpl = {};\n",
       "\n",
       "\n",
       "mpl.get_websocket_type = function() {\n",
       "    if (typeof(WebSocket) !== 'undefined') {\n",
       "        return WebSocket;\n",
       "    } else if (typeof(MozWebSocket) !== 'undefined') {\n",
       "        return MozWebSocket;\n",
       "    } else {\n",
       "        alert('Your browser does not have WebSocket support.' +\n",
       "              'Please try Chrome, Safari or Firefox ≥ 6. ' +\n",
       "              'Firefox 4 and 5 are also supported but you ' +\n",
       "              'have to enable WebSockets in about:config.');\n",
       "    };\n",
       "}\n",
       "\n",
       "mpl.figure = function(figure_id, websocket, ondownload, parent_element) {\n",
       "    this.id = figure_id;\n",
       "\n",
       "    this.ws = websocket;\n",
       "\n",
       "    this.supports_binary = (this.ws.binaryType != undefined);\n",
       "\n",
       "    if (!this.supports_binary) {\n",
       "        var warnings = document.getElementById(\"mpl-warnings\");\n",
       "        if (warnings) {\n",
       "            warnings.style.display = 'block';\n",
       "            warnings.textContent = (\n",
       "                \"This browser does not support binary websocket messages. \" +\n",
       "                    \"Performance may be slow.\");\n",
       "        }\n",
       "    }\n",
       "\n",
       "    this.imageObj = new Image();\n",
       "\n",
       "    this.context = undefined;\n",
       "    this.message = undefined;\n",
       "    this.canvas = undefined;\n",
       "    this.rubberband_canvas = undefined;\n",
       "    this.rubberband_context = undefined;\n",
       "    this.format_dropdown = undefined;\n",
       "\n",
       "    this.image_mode = 'full';\n",
       "\n",
       "    this.root = $('<div/>');\n",
       "    this._root_extra_style(this.root)\n",
       "    this.root.attr('style', 'display: inline-block');\n",
       "\n",
       "    $(parent_element).append(this.root);\n",
       "\n",
       "    this._init_header(this);\n",
       "    this._init_canvas(this);\n",
       "    this._init_toolbar(this);\n",
       "\n",
       "    var fig = this;\n",
       "\n",
       "    this.waiting = false;\n",
       "\n",
       "    this.ws.onopen =  function () {\n",
       "            fig.send_message(\"supports_binary\", {value: fig.supports_binary});\n",
       "            fig.send_message(\"send_image_mode\", {});\n",
       "            if (mpl.ratio != 1) {\n",
       "                fig.send_message(\"set_dpi_ratio\", {'dpi_ratio': mpl.ratio});\n",
       "            }\n",
       "            fig.send_message(\"refresh\", {});\n",
       "        }\n",
       "\n",
       "    this.imageObj.onload = function() {\n",
       "            if (fig.image_mode == 'full') {\n",
       "                // Full images could contain transparency (where diff images\n",
       "                // almost always do), so we need to clear the canvas so that\n",
       "                // there is no ghosting.\n",
       "                fig.context.clearRect(0, 0, fig.canvas.width, fig.canvas.height);\n",
       "            }\n",
       "            fig.context.drawImage(fig.imageObj, 0, 0);\n",
       "        };\n",
       "\n",
       "    this.imageObj.onunload = function() {\n",
       "        fig.ws.close();\n",
       "    }\n",
       "\n",
       "    this.ws.onmessage = this._make_on_message_function(this);\n",
       "\n",
       "    this.ondownload = ondownload;\n",
       "}\n",
       "\n",
       "mpl.figure.prototype._init_header = function() {\n",
       "    var titlebar = $(\n",
       "        '<div class=\"ui-dialog-titlebar ui-widget-header ui-corner-all ' +\n",
       "        'ui-helper-clearfix\"/>');\n",
       "    var titletext = $(\n",
       "        '<div class=\"ui-dialog-title\" style=\"width: 100%; ' +\n",
       "        'text-align: center; padding: 3px;\"/>');\n",
       "    titlebar.append(titletext)\n",
       "    this.root.append(titlebar);\n",
       "    this.header = titletext[0];\n",
       "}\n",
       "\n",
       "\n",
       "\n",
       "mpl.figure.prototype._canvas_extra_style = function(canvas_div) {\n",
       "\n",
       "}\n",
       "\n",
       "\n",
       "mpl.figure.prototype._root_extra_style = function(canvas_div) {\n",
       "\n",
       "}\n",
       "\n",
       "mpl.figure.prototype._init_canvas = function() {\n",
       "    var fig = this;\n",
       "\n",
       "    var canvas_div = $('<div/>');\n",
       "\n",
       "    canvas_div.attr('style', 'position: relative; clear: both; outline: 0');\n",
       "\n",
       "    function canvas_keyboard_event(event) {\n",
       "        return fig.key_event(event, event['data']);\n",
       "    }\n",
       "\n",
       "    canvas_div.keydown('key_press', canvas_keyboard_event);\n",
       "    canvas_div.keyup('key_release', canvas_keyboard_event);\n",
       "    this.canvas_div = canvas_div\n",
       "    this._canvas_extra_style(canvas_div)\n",
       "    this.root.append(canvas_div);\n",
       "\n",
       "    var canvas = $('<canvas/>');\n",
       "    canvas.addClass('mpl-canvas');\n",
       "    canvas.attr('style', \"left: 0; top: 0; z-index: 0; outline: 0\")\n",
       "\n",
       "    this.canvas = canvas[0];\n",
       "    this.context = canvas[0].getContext(\"2d\");\n",
       "\n",
       "    var backingStore = this.context.backingStorePixelRatio ||\n",
       "\tthis.context.webkitBackingStorePixelRatio ||\n",
       "\tthis.context.mozBackingStorePixelRatio ||\n",
       "\tthis.context.msBackingStorePixelRatio ||\n",
       "\tthis.context.oBackingStorePixelRatio ||\n",
       "\tthis.context.backingStorePixelRatio || 1;\n",
       "\n",
       "    mpl.ratio = (window.devicePixelRatio || 1) / backingStore;\n",
       "\n",
       "    var rubberband = $('<canvas/>');\n",
       "    rubberband.attr('style', \"position: absolute; left: 0; top: 0; z-index: 1;\")\n",
       "\n",
       "    var pass_mouse_events = true;\n",
       "\n",
       "    canvas_div.resizable({\n",
       "        start: function(event, ui) {\n",
       "            pass_mouse_events = false;\n",
       "        },\n",
       "        resize: function(event, ui) {\n",
       "            fig.request_resize(ui.size.width, ui.size.height);\n",
       "        },\n",
       "        stop: function(event, ui) {\n",
       "            pass_mouse_events = true;\n",
       "            fig.request_resize(ui.size.width, ui.size.height);\n",
       "        },\n",
       "    });\n",
       "\n",
       "    function mouse_event_fn(event) {\n",
       "        if (pass_mouse_events)\n",
       "            return fig.mouse_event(event, event['data']);\n",
       "    }\n",
       "\n",
       "    rubberband.mousedown('button_press', mouse_event_fn);\n",
       "    rubberband.mouseup('button_release', mouse_event_fn);\n",
       "    // Throttle sequential mouse events to 1 every 20ms.\n",
       "    rubberband.mousemove('motion_notify', mouse_event_fn);\n",
       "\n",
       "    rubberband.mouseenter('figure_enter', mouse_event_fn);\n",
       "    rubberband.mouseleave('figure_leave', mouse_event_fn);\n",
       "\n",
       "    canvas_div.on(\"wheel\", function (event) {\n",
       "        event = event.originalEvent;\n",
       "        event['data'] = 'scroll'\n",
       "        if (event.deltaY < 0) {\n",
       "            event.step = 1;\n",
       "        } else {\n",
       "            event.step = -1;\n",
       "        }\n",
       "        mouse_event_fn(event);\n",
       "    });\n",
       "\n",
       "    canvas_div.append(canvas);\n",
       "    canvas_div.append(rubberband);\n",
       "\n",
       "    this.rubberband = rubberband;\n",
       "    this.rubberband_canvas = rubberband[0];\n",
       "    this.rubberband_context = rubberband[0].getContext(\"2d\");\n",
       "    this.rubberband_context.strokeStyle = \"#000000\";\n",
       "\n",
       "    this._resize_canvas = function(width, height) {\n",
       "        // Keep the size of the canvas, canvas container, and rubber band\n",
       "        // canvas in synch.\n",
       "        canvas_div.css('width', width)\n",
       "        canvas_div.css('height', height)\n",
       "\n",
       "        canvas.attr('width', width * mpl.ratio);\n",
       "        canvas.attr('height', height * mpl.ratio);\n",
       "        canvas.attr('style', 'width: ' + width + 'px; height: ' + height + 'px;');\n",
       "\n",
       "        rubberband.attr('width', width);\n",
       "        rubberband.attr('height', height);\n",
       "    }\n",
       "\n",
       "    // Set the figure to an initial 600x600px, this will subsequently be updated\n",
       "    // upon first draw.\n",
       "    this._resize_canvas(600, 600);\n",
       "\n",
       "    // Disable right mouse context menu.\n",
       "    $(this.rubberband_canvas).bind(\"contextmenu\",function(e){\n",
       "        return false;\n",
       "    });\n",
       "\n",
       "    function set_focus () {\n",
       "        canvas.focus();\n",
       "        canvas_div.focus();\n",
       "    }\n",
       "\n",
       "    window.setTimeout(set_focus, 100);\n",
       "}\n",
       "\n",
       "mpl.figure.prototype._init_toolbar = function() {\n",
       "    var fig = this;\n",
       "\n",
       "    var nav_element = $('<div/>')\n",
       "    nav_element.attr('style', 'width: 100%');\n",
       "    this.root.append(nav_element);\n",
       "\n",
       "    // Define a callback function for later on.\n",
       "    function toolbar_event(event) {\n",
       "        return fig.toolbar_button_onclick(event['data']);\n",
       "    }\n",
       "    function toolbar_mouse_event(event) {\n",
       "        return fig.toolbar_button_onmouseover(event['data']);\n",
       "    }\n",
       "\n",
       "    for(var toolbar_ind in mpl.toolbar_items) {\n",
       "        var name = mpl.toolbar_items[toolbar_ind][0];\n",
       "        var tooltip = mpl.toolbar_items[toolbar_ind][1];\n",
       "        var image = mpl.toolbar_items[toolbar_ind][2];\n",
       "        var method_name = mpl.toolbar_items[toolbar_ind][3];\n",
       "\n",
       "        if (!name) {\n",
       "            // put a spacer in here.\n",
       "            continue;\n",
       "        }\n",
       "        var button = $('<button/>');\n",
       "        button.addClass('ui-button ui-widget ui-state-default ui-corner-all ' +\n",
       "                        'ui-button-icon-only');\n",
       "        button.attr('role', 'button');\n",
       "        button.attr('aria-disabled', 'false');\n",
       "        button.click(method_name, toolbar_event);\n",
       "        button.mouseover(tooltip, toolbar_mouse_event);\n",
       "\n",
       "        var icon_img = $('<span/>');\n",
       "        icon_img.addClass('ui-button-icon-primary ui-icon');\n",
       "        icon_img.addClass(image);\n",
       "        icon_img.addClass('ui-corner-all');\n",
       "\n",
       "        var tooltip_span = $('<span/>');\n",
       "        tooltip_span.addClass('ui-button-text');\n",
       "        tooltip_span.html(tooltip);\n",
       "\n",
       "        button.append(icon_img);\n",
       "        button.append(tooltip_span);\n",
       "\n",
       "        nav_element.append(button);\n",
       "    }\n",
       "\n",
       "    var fmt_picker_span = $('<span/>');\n",
       "\n",
       "    var fmt_picker = $('<select/>');\n",
       "    fmt_picker.addClass('mpl-toolbar-option ui-widget ui-widget-content');\n",
       "    fmt_picker_span.append(fmt_picker);\n",
       "    nav_element.append(fmt_picker_span);\n",
       "    this.format_dropdown = fmt_picker[0];\n",
       "\n",
       "    for (var ind in mpl.extensions) {\n",
       "        var fmt = mpl.extensions[ind];\n",
       "        var option = $(\n",
       "            '<option/>', {selected: fmt === mpl.default_extension}).html(fmt);\n",
       "        fmt_picker.append(option)\n",
       "    }\n",
       "\n",
       "    // Add hover states to the ui-buttons\n",
       "    $( \".ui-button\" ).hover(\n",
       "        function() { $(this).addClass(\"ui-state-hover\");},\n",
       "        function() { $(this).removeClass(\"ui-state-hover\");}\n",
       "    );\n",
       "\n",
       "    var status_bar = $('<span class=\"mpl-message\"/>');\n",
       "    nav_element.append(status_bar);\n",
       "    this.message = status_bar[0];\n",
       "}\n",
       "\n",
       "mpl.figure.prototype.request_resize = function(x_pixels, y_pixels) {\n",
       "    // Request matplotlib to resize the figure. Matplotlib will then trigger a resize in the client,\n",
       "    // which will in turn request a refresh of the image.\n",
       "    this.send_message('resize', {'width': x_pixels, 'height': y_pixels});\n",
       "}\n",
       "\n",
       "mpl.figure.prototype.send_message = function(type, properties) {\n",
       "    properties['type'] = type;\n",
       "    properties['figure_id'] = this.id;\n",
       "    this.ws.send(JSON.stringify(properties));\n",
       "}\n",
       "\n",
       "mpl.figure.prototype.send_draw_message = function() {\n",
       "    if (!this.waiting) {\n",
       "        this.waiting = true;\n",
       "        this.ws.send(JSON.stringify({type: \"draw\", figure_id: this.id}));\n",
       "    }\n",
       "}\n",
       "\n",
       "\n",
       "mpl.figure.prototype.handle_save = function(fig, msg) {\n",
       "    var format_dropdown = fig.format_dropdown;\n",
       "    var format = format_dropdown.options[format_dropdown.selectedIndex].value;\n",
       "    fig.ondownload(fig, format);\n",
       "}\n",
       "\n",
       "\n",
       "mpl.figure.prototype.handle_resize = function(fig, msg) {\n",
       "    var size = msg['size'];\n",
       "    if (size[0] != fig.canvas.width || size[1] != fig.canvas.height) {\n",
       "        fig._resize_canvas(size[0], size[1]);\n",
       "        fig.send_message(\"refresh\", {});\n",
       "    };\n",
       "}\n",
       "\n",
       "mpl.figure.prototype.handle_rubberband = function(fig, msg) {\n",
       "    var x0 = msg['x0'] / mpl.ratio;\n",
       "    var y0 = (fig.canvas.height - msg['y0']) / mpl.ratio;\n",
       "    var x1 = msg['x1'] / mpl.ratio;\n",
       "    var y1 = (fig.canvas.height - msg['y1']) / mpl.ratio;\n",
       "    x0 = Math.floor(x0) + 0.5;\n",
       "    y0 = Math.floor(y0) + 0.5;\n",
       "    x1 = Math.floor(x1) + 0.5;\n",
       "    y1 = Math.floor(y1) + 0.5;\n",
       "    var min_x = Math.min(x0, x1);\n",
       "    var min_y = Math.min(y0, y1);\n",
       "    var width = Math.abs(x1 - x0);\n",
       "    var height = Math.abs(y1 - y0);\n",
       "\n",
       "    fig.rubberband_context.clearRect(\n",
       "        0, 0, fig.canvas.width, fig.canvas.height);\n",
       "\n",
       "    fig.rubberband_context.strokeRect(min_x, min_y, width, height);\n",
       "}\n",
       "\n",
       "mpl.figure.prototype.handle_figure_label = function(fig, msg) {\n",
       "    // Updates the figure title.\n",
       "    fig.header.textContent = msg['label'];\n",
       "}\n",
       "\n",
       "mpl.figure.prototype.handle_cursor = function(fig, msg) {\n",
       "    var cursor = msg['cursor'];\n",
       "    switch(cursor)\n",
       "    {\n",
       "    case 0:\n",
       "        cursor = 'pointer';\n",
       "        break;\n",
       "    case 1:\n",
       "        cursor = 'default';\n",
       "        break;\n",
       "    case 2:\n",
       "        cursor = 'crosshair';\n",
       "        break;\n",
       "    case 3:\n",
       "        cursor = 'move';\n",
       "        break;\n",
       "    }\n",
       "    fig.rubberband_canvas.style.cursor = cursor;\n",
       "}\n",
       "\n",
       "mpl.figure.prototype.handle_message = function(fig, msg) {\n",
       "    fig.message.textContent = msg['message'];\n",
       "}\n",
       "\n",
       "mpl.figure.prototype.handle_draw = function(fig, msg) {\n",
       "    // Request the server to send over a new figure.\n",
       "    fig.send_draw_message();\n",
       "}\n",
       "\n",
       "mpl.figure.prototype.handle_image_mode = function(fig, msg) {\n",
       "    fig.image_mode = msg['mode'];\n",
       "}\n",
       "\n",
       "mpl.figure.prototype.updated_canvas_event = function() {\n",
       "    // Called whenever the canvas gets updated.\n",
       "    this.send_message(\"ack\", {});\n",
       "}\n",
       "\n",
       "// A function to construct a web socket function for onmessage handling.\n",
       "// Called in the figure constructor.\n",
       "mpl.figure.prototype._make_on_message_function = function(fig) {\n",
       "    return function socket_on_message(evt) {\n",
       "        if (evt.data instanceof Blob) {\n",
       "            /* FIXME: We get \"Resource interpreted as Image but\n",
       "             * transferred with MIME type text/plain:\" errors on\n",
       "             * Chrome.  But how to set the MIME type?  It doesn't seem\n",
       "             * to be part of the websocket stream */\n",
       "            evt.data.type = \"image/png\";\n",
       "\n",
       "            /* Free the memory for the previous frames */\n",
       "            if (fig.imageObj.src) {\n",
       "                (window.URL || window.webkitURL).revokeObjectURL(\n",
       "                    fig.imageObj.src);\n",
       "            }\n",
       "\n",
       "            fig.imageObj.src = (window.URL || window.webkitURL).createObjectURL(\n",
       "                evt.data);\n",
       "            fig.updated_canvas_event();\n",
       "            fig.waiting = false;\n",
       "            return;\n",
       "        }\n",
       "        else if (typeof evt.data === 'string' && evt.data.slice(0, 21) == \"data:image/png;base64\") {\n",
       "            fig.imageObj.src = evt.data;\n",
       "            fig.updated_canvas_event();\n",
       "            fig.waiting = false;\n",
       "            return;\n",
       "        }\n",
       "\n",
       "        var msg = JSON.parse(evt.data);\n",
       "        var msg_type = msg['type'];\n",
       "\n",
       "        // Call the  \"handle_{type}\" callback, which takes\n",
       "        // the figure and JSON message as its only arguments.\n",
       "        try {\n",
       "            var callback = fig[\"handle_\" + msg_type];\n",
       "        } catch (e) {\n",
       "            console.log(\"No handler for the '\" + msg_type + \"' message type: \", msg);\n",
       "            return;\n",
       "        }\n",
       "\n",
       "        if (callback) {\n",
       "            try {\n",
       "                // console.log(\"Handling '\" + msg_type + \"' message: \", msg);\n",
       "                callback(fig, msg);\n",
       "            } catch (e) {\n",
       "                console.log(\"Exception inside the 'handler_\" + msg_type + \"' callback:\", e, e.stack, msg);\n",
       "            }\n",
       "        }\n",
       "    };\n",
       "}\n",
       "\n",
       "// from http://stackoverflow.com/questions/1114465/getting-mouse-location-in-canvas\n",
       "mpl.findpos = function(e) {\n",
       "    //this section is from http://www.quirksmode.org/js/events_properties.html\n",
       "    var targ;\n",
       "    if (!e)\n",
       "        e = window.event;\n",
       "    if (e.target)\n",
       "        targ = e.target;\n",
       "    else if (e.srcElement)\n",
       "        targ = e.srcElement;\n",
       "    if (targ.nodeType == 3) // defeat Safari bug\n",
       "        targ = targ.parentNode;\n",
       "\n",
       "    // jQuery normalizes the pageX and pageY\n",
       "    // pageX,Y are the mouse positions relative to the document\n",
       "    // offset() returns the position of the element relative to the document\n",
       "    var x = e.pageX - $(targ).offset().left;\n",
       "    var y = e.pageY - $(targ).offset().top;\n",
       "\n",
       "    return {\"x\": x, \"y\": y};\n",
       "};\n",
       "\n",
       "/*\n",
       " * return a copy of an object with only non-object keys\n",
       " * we need this to avoid circular references\n",
       " * http://stackoverflow.com/a/24161582/3208463\n",
       " */\n",
       "function simpleKeys (original) {\n",
       "  return Object.keys(original).reduce(function (obj, key) {\n",
       "    if (typeof original[key] !== 'object')\n",
       "        obj[key] = original[key]\n",
       "    return obj;\n",
       "  }, {});\n",
       "}\n",
       "\n",
       "mpl.figure.prototype.mouse_event = function(event, name) {\n",
       "    var canvas_pos = mpl.findpos(event)\n",
       "\n",
       "    if (name === 'button_press')\n",
       "    {\n",
       "        this.canvas.focus();\n",
       "        this.canvas_div.focus();\n",
       "    }\n",
       "\n",
       "    var x = canvas_pos.x * mpl.ratio;\n",
       "    var y = canvas_pos.y * mpl.ratio;\n",
       "\n",
       "    this.send_message(name, {x: x, y: y, button: event.button,\n",
       "                             step: event.step,\n",
       "                             guiEvent: simpleKeys(event)});\n",
       "\n",
       "    /* This prevents the web browser from automatically changing to\n",
       "     * the text insertion cursor when the button is pressed.  We want\n",
       "     * to control all of the cursor setting manually through the\n",
       "     * 'cursor' event from matplotlib */\n",
       "    event.preventDefault();\n",
       "    return false;\n",
       "}\n",
       "\n",
       "mpl.figure.prototype._key_event_extra = function(event, name) {\n",
       "    // Handle any extra behaviour associated with a key event\n",
       "}\n",
       "\n",
       "mpl.figure.prototype.key_event = function(event, name) {\n",
       "\n",
       "    // Prevent repeat events\n",
       "    if (name == 'key_press')\n",
       "    {\n",
       "        if (event.which === this._key)\n",
       "            return;\n",
       "        else\n",
       "            this._key = event.which;\n",
       "    }\n",
       "    if (name == 'key_release')\n",
       "        this._key = null;\n",
       "\n",
       "    var value = '';\n",
       "    if (event.ctrlKey && event.which != 17)\n",
       "        value += \"ctrl+\";\n",
       "    if (event.altKey && event.which != 18)\n",
       "        value += \"alt+\";\n",
       "    if (event.shiftKey && event.which != 16)\n",
       "        value += \"shift+\";\n",
       "\n",
       "    value += 'k';\n",
       "    value += event.which.toString();\n",
       "\n",
       "    this._key_event_extra(event, name);\n",
       "\n",
       "    this.send_message(name, {key: value,\n",
       "                             guiEvent: simpleKeys(event)});\n",
       "    return false;\n",
       "}\n",
       "\n",
       "mpl.figure.prototype.toolbar_button_onclick = function(name) {\n",
       "    if (name == 'download') {\n",
       "        this.handle_save(this, null);\n",
       "    } else {\n",
       "        this.send_message(\"toolbar_button\", {name: name});\n",
       "    }\n",
       "};\n",
       "\n",
       "mpl.figure.prototype.toolbar_button_onmouseover = function(tooltip) {\n",
       "    this.message.textContent = tooltip;\n",
       "};\n",
       "mpl.toolbar_items = [[\"Home\", \"Reset original view\", \"fa fa-home icon-home\", \"home\"], [\"Back\", \"Back to previous view\", \"fa fa-arrow-left icon-arrow-left\", \"back\"], [\"Forward\", \"Forward to next view\", \"fa fa-arrow-right icon-arrow-right\", \"forward\"], [\"\", \"\", \"\", \"\"], [\"Pan\", \"Pan axes with left mouse, zoom with right\", \"fa fa-arrows icon-move\", \"pan\"], [\"Zoom\", \"Zoom to rectangle\", \"fa fa-square-o icon-check-empty\", \"zoom\"], [\"\", \"\", \"\", \"\"], [\"Download\", \"Download plot\", \"fa fa-floppy-o icon-save\", \"download\"]];\n",
       "\n",
       "mpl.extensions = [\"eps\", \"jpeg\", \"pdf\", \"png\", \"ps\", \"raw\", \"svg\", \"tif\"];\n",
       "\n",
       "mpl.default_extension = \"png\";var comm_websocket_adapter = function(comm) {\n",
       "    // Create a \"websocket\"-like object which calls the given IPython comm\n",
       "    // object with the appropriate methods. Currently this is a non binary\n",
       "    // socket, so there is still some room for performance tuning.\n",
       "    var ws = {};\n",
       "\n",
       "    ws.close = function() {\n",
       "        comm.close()\n",
       "    };\n",
       "    ws.send = function(m) {\n",
       "        //console.log('sending', m);\n",
       "        comm.send(m);\n",
       "    };\n",
       "    // Register the callback with on_msg.\n",
       "    comm.on_msg(function(msg) {\n",
       "        //console.log('receiving', msg['content']['data'], msg);\n",
       "        // Pass the mpl event to the overridden (by mpl) onmessage function.\n",
       "        ws.onmessage(msg['content']['data'])\n",
       "    });\n",
       "    return ws;\n",
       "}\n",
       "\n",
       "mpl.mpl_figure_comm = function(comm, msg) {\n",
       "    // This is the function which gets called when the mpl process\n",
       "    // starts-up an IPython Comm through the \"matplotlib\" channel.\n",
       "\n",
       "    var id = msg.content.data.id;\n",
       "    // Get hold of the div created by the display call when the Comm\n",
       "    // socket was opened in Python.\n",
       "    var element = $(\"#\" + id);\n",
       "    var ws_proxy = comm_websocket_adapter(comm)\n",
       "\n",
       "    function ondownload(figure, format) {\n",
       "        window.open(figure.imageObj.src);\n",
       "    }\n",
       "\n",
       "    var fig = new mpl.figure(id, ws_proxy,\n",
       "                           ondownload,\n",
       "                           element.get(0));\n",
       "\n",
       "    // Call onopen now - mpl needs it, as it is assuming we've passed it a real\n",
       "    // web socket which is closed, not our websocket->open comm proxy.\n",
       "    ws_proxy.onopen();\n",
       "\n",
       "    fig.parent_element = element.get(0);\n",
       "    fig.cell_info = mpl.find_output_cell(\"<div id='\" + id + \"'></div>\");\n",
       "    if (!fig.cell_info) {\n",
       "        console.error(\"Failed to find cell for figure\", id, fig);\n",
       "        return;\n",
       "    }\n",
       "\n",
       "    var output_index = fig.cell_info[2]\n",
       "    var cell = fig.cell_info[0];\n",
       "\n",
       "};\n",
       "\n",
       "mpl.figure.prototype.handle_close = function(fig, msg) {\n",
       "    var width = fig.canvas.width/mpl.ratio\n",
       "    fig.root.unbind('remove')\n",
       "\n",
       "    // Update the output cell to use the data from the current canvas.\n",
       "    fig.push_to_output();\n",
       "    var dataURL = fig.canvas.toDataURL();\n",
       "    // Re-enable the keyboard manager in IPython - without this line, in FF,\n",
       "    // the notebook keyboard shortcuts fail.\n",
       "    IPython.keyboard_manager.enable()\n",
       "    $(fig.parent_element).html('<img src=\"' + dataURL + '\" width=\"' + width + '\">');\n",
       "    fig.close_ws(fig, msg);\n",
       "}\n",
       "\n",
       "mpl.figure.prototype.close_ws = function(fig, msg){\n",
       "    fig.send_message('closing', msg);\n",
       "    // fig.ws.close()\n",
       "}\n",
       "\n",
       "mpl.figure.prototype.push_to_output = function(remove_interactive) {\n",
       "    // Turn the data on the canvas into data in the output cell.\n",
       "    var width = this.canvas.width/mpl.ratio\n",
       "    var dataURL = this.canvas.toDataURL();\n",
       "    this.cell_info[1]['text/html'] = '<img src=\"' + dataURL + '\" width=\"' + width + '\">';\n",
       "}\n",
       "\n",
       "mpl.figure.prototype.updated_canvas_event = function() {\n",
       "    // Tell IPython that the notebook contents must change.\n",
       "    IPython.notebook.set_dirty(true);\n",
       "    this.send_message(\"ack\", {});\n",
       "    var fig = this;\n",
       "    // Wait a second, then push the new image to the DOM so\n",
       "    // that it is saved nicely (might be nice to debounce this).\n",
       "    setTimeout(function () { fig.push_to_output() }, 1000);\n",
       "}\n",
       "\n",
       "mpl.figure.prototype._init_toolbar = function() {\n",
       "    var fig = this;\n",
       "\n",
       "    var nav_element = $('<div/>')\n",
       "    nav_element.attr('style', 'width: 100%');\n",
       "    this.root.append(nav_element);\n",
       "\n",
       "    // Define a callback function for later on.\n",
       "    function toolbar_event(event) {\n",
       "        return fig.toolbar_button_onclick(event['data']);\n",
       "    }\n",
       "    function toolbar_mouse_event(event) {\n",
       "        return fig.toolbar_button_onmouseover(event['data']);\n",
       "    }\n",
       "\n",
       "    for(var toolbar_ind in mpl.toolbar_items){\n",
       "        var name = mpl.toolbar_items[toolbar_ind][0];\n",
       "        var tooltip = mpl.toolbar_items[toolbar_ind][1];\n",
       "        var image = mpl.toolbar_items[toolbar_ind][2];\n",
       "        var method_name = mpl.toolbar_items[toolbar_ind][3];\n",
       "\n",
       "        if (!name) { continue; };\n",
       "\n",
       "        var button = $('<button class=\"btn btn-default\" href=\"#\" title=\"' + name + '\"><i class=\"fa ' + image + ' fa-lg\"></i></button>');\n",
       "        button.click(method_name, toolbar_event);\n",
       "        button.mouseover(tooltip, toolbar_mouse_event);\n",
       "        nav_element.append(button);\n",
       "    }\n",
       "\n",
       "    // Add the status bar.\n",
       "    var status_bar = $('<span class=\"mpl-message\" style=\"text-align:right; float: right;\"/>');\n",
       "    nav_element.append(status_bar);\n",
       "    this.message = status_bar[0];\n",
       "\n",
       "    // Add the close button to the window.\n",
       "    var buttongrp = $('<div class=\"btn-group inline pull-right\"></div>');\n",
       "    var button = $('<button class=\"btn btn-mini btn-primary\" href=\"#\" title=\"Stop Interaction\"><i class=\"fa fa-power-off icon-remove icon-large\"></i></button>');\n",
       "    button.click(function (evt) { fig.handle_close(fig, {}); } );\n",
       "    button.mouseover('Stop Interaction', toolbar_mouse_event);\n",
       "    buttongrp.append(button);\n",
       "    var titlebar = this.root.find($('.ui-dialog-titlebar'));\n",
       "    titlebar.prepend(buttongrp);\n",
       "}\n",
       "\n",
       "mpl.figure.prototype._root_extra_style = function(el){\n",
       "    var fig = this\n",
       "    el.on(\"remove\", function(){\n",
       "\tfig.close_ws(fig, {});\n",
       "    });\n",
       "}\n",
       "\n",
       "mpl.figure.prototype._canvas_extra_style = function(el){\n",
       "    // this is important to make the div 'focusable\n",
       "    el.attr('tabindex', 0)\n",
       "    // reach out to IPython and tell the keyboard manager to turn it's self\n",
       "    // off when our div gets focus\n",
       "\n",
       "    // location in version 3\n",
       "    if (IPython.notebook.keyboard_manager) {\n",
       "        IPython.notebook.keyboard_manager.register_events(el);\n",
       "    }\n",
       "    else {\n",
       "        // location in version 2\n",
       "        IPython.keyboard_manager.register_events(el);\n",
       "    }\n",
       "\n",
       "}\n",
       "\n",
       "mpl.figure.prototype._key_event_extra = function(event, name) {\n",
       "    var manager = IPython.notebook.keyboard_manager;\n",
       "    if (!manager)\n",
       "        manager = IPython.keyboard_manager;\n",
       "\n",
       "    // Check for shift+enter\n",
       "    if (event.shiftKey && event.which == 13) {\n",
       "        this.canvas_div.blur();\n",
       "        event.shiftKey = false;\n",
       "        // Send a \"J\" for go to next cell\n",
       "        event.which = 74;\n",
       "        event.keyCode = 74;\n",
       "        manager.command_mode();\n",
       "        manager.handle_keydown(event);\n",
       "    }\n",
       "}\n",
       "\n",
       "mpl.figure.prototype.handle_save = function(fig, msg) {\n",
       "    fig.ondownload(fig, null);\n",
       "}\n",
       "\n",
       "\n",
       "mpl.find_output_cell = function(html_output) {\n",
       "    // Return the cell and output element which can be found *uniquely* in the notebook.\n",
       "    // Note - this is a bit hacky, but it is done because the \"notebook_saving.Notebook\"\n",
       "    // IPython event is triggered only after the cells have been serialised, which for\n",
       "    // our purposes (turning an active figure into a static one), is too late.\n",
       "    var cells = IPython.notebook.get_cells();\n",
       "    var ncells = cells.length;\n",
       "    for (var i=0; i<ncells; i++) {\n",
       "        var cell = cells[i];\n",
       "        if (cell.cell_type === 'code'){\n",
       "            for (var j=0; j<cell.output_area.outputs.length; j++) {\n",
       "                var data = cell.output_area.outputs[j];\n",
       "                if (data.data) {\n",
       "                    // IPython >= 3 moved mimebundle to data attribute of output\n",
       "                    data = data.data;\n",
       "                }\n",
       "                if (data['text/html'] == html_output) {\n",
       "                    return [cell, data, j];\n",
       "                }\n",
       "            }\n",
       "        }\n",
       "    }\n",
       "}\n",
       "\n",
       "// Register the function which deals with the matplotlib target/channel.\n",
       "// The kernel may be null if the page has been refreshed.\n",
       "if (IPython.notebook.kernel != null) {\n",
       "    IPython.notebook.kernel.comm_manager.register_target('matplotlib', mpl.mpl_figure_comm);\n",
       "}\n"
      ],
      "text/plain": [
       "<IPython.core.display.Javascript object>"
      ]
     },
     "metadata": {},
     "output_type": "display_data"
    },
    {
     "data": {
      "text/html": [
       "<img src=\"data:image/png;base64,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\" width=\"431.62788783104974\">"
      ],
      "text/plain": [
       "<IPython.core.display.HTML object>"
      ]
     },
     "metadata": {},
     "output_type": "display_data"
    },
    {
     "data": {
      "text/plain": [
       "[<matplotlib.lines.Line2D at 0x1d2d7eb3048>]"
      ]
     },
     "execution_count": 35,
     "metadata": {},
     "output_type": "execute_result"
    }
   ],
   "source": [
    "\n",
    "y = [31, 31, 41, 52, 63, 73, 79, 78, 70, 58, 48, 35]\n",
    "x = list(range(1,13))\n",
    "\n",
    "miami_high = []\n",
    "# Or you can also do list(range(1, len(y)+1))\n",
    "# This avoids remembering the number of variables in y, just automatically adjusts\n",
    "\n",
    "plt.plot(x, y, 'd')"
   ]
  },
  {
   "cell_type": "code",
   "execution_count": 82,
   "metadata": {},
   "outputs": [
    {
     "data": {
      "text/plain": [
       "[<matplotlib.lines.Line2D at 0x1d2d9ccae10>]"
      ]
     },
     "execution_count": 82,
     "metadata": {},
     "output_type": "execute_result"
    },
    {
     "data": {
      "image/png": "[encoded data removed]",
      "text/plain": [
       "<Figure size 432x288 with 1 Axes>"
      ]
     },
     "metadata": {
      "needs_background": "light"
     },
     "output_type": "display_data"
    }
   ],
   "source": [
    "plt.plot(x, y,'ko-')"
   ]
  },
  {
   "cell_type": "code",
   "execution_count": 11,
   "metadata": {},
   "outputs": [
    {
     "data": {
      "text/plain": [
       "[<matplotlib.lines.Line2D at 0x225c44d1fd0>]"
      ]
     },
     "execution_count": 11,
     "metadata": {},
     "output_type": "execute_result"
    },
    {
     "data": {
      "image/png": "[encoded data removed]",
      "text/plain": [
       "<Figure size 432x288 with 1 Axes>"
      ]
     },
     "metadata": {
      "needs_background": "light"
     },
     "output_type": "display_data"
    }
   ],
   "source": [
    "plt.plot(x, y, '+')"
   ]
  },
  {
   "cell_type": "code",
   "execution_count": 119,
   "metadata": {},
   "outputs": [
    {
     "data": {
      "text/plain": [
       "<ErrorbarContainer object of 3 artists>"
      ]
     },
     "execution_count": 119,
     "metadata": {},
     "output_type": "execute_result"
    },
    {
     "data": {
      "image/png": "[encoded data removed]",
      "text/plain": [
       "<Figure size 432x288 with 1 Axes>"
      ]
     },
     "metadata": {
      "needs_background": "light"
     },
     "output_type": "display_data"
    }
   ],
   "source": [
    "y = [31,31,41,52,63,73,79,78,70,58,48,35]\n",
    "\n",
    "x = list(range(1,13))\n",
    "errors = [3,9,8,2,7,6,3,7,5,4,8,6]\n",
    "\n",
    "plt.errorbar(x,y,yerr = errors, fmt = '.b', color = 'green', ecolor = 'green', ms = '15', elinewidth = 3)"
   ]
  },
  {
   "cell_type": "code",
   "execution_count": 34,
   "metadata": {},
   "outputs": [
    {
     "data": {
      "text/plain": [
       "Text(0.5, 0, 'Month')"
      ]
     },
     "execution_count": 34,
     "metadata": {},
     "output_type": "execute_result"
    },
    {
     "data": {
      "image/png": "[encoded data removed]",
      "text/plain": [
       "<Figure size 432x288 with 1 Axes>"
      ]
     },
     "metadata": {
      "needs_background": "light"
     },
     "output_type": "display_data"
    }
   ],
   "source": [
    "plt.plot(x, y, 'h-', color = 'red', ms = 12, mfc = 'green')\n",
    "plt.title('This is my Plot')\n",
    "# We use latex to add the degree farenheit symbol\n",
    "# Useful for making equations\n",
    "plt.ylabel('Temperature [$^\\circ$F]')\n",
    "plt.xlabel('Month')\n"
   ]
  },
  {
   "cell_type": "code",
   "execution_count": 41,
   "metadata": {
    "scrolled": false
   },
   "outputs": [
    {
     "data": {
      "text/plain": [
       "<matplotlib.legend.Legend at 0x225c8ff5630>"
      ]
     },
     "execution_count": 41,
     "metadata": {},
     "output_type": "execute_result"
    },
    {
     "data": {
      "image/png": "[encoded data removed]",
      "text/plain": [
       "<Figure size 432x288 with 1 Axes>"
      ]
     },
     "metadata": {
      "needs_background": "light"
     },
     "output_type": "display_data"
    }
   ],
   "source": [
    "months = ['Jan ', 'Feb ', 'Mar ', 'Apr ', 'May ', 'Jun ', 'Jul ', \\\n",
    "          'Aug ', 'Sep ', 'Oct ', 'Nov ', 'Dec ']\n",
    "\n",
    "plt.xticks(x, months)\n",
    "\n",
    "miami_high = [73 , 74, 75, 78, 81, 84, 85, 86, 85, 82, 78, 76]\n",
    "\n",
    "plt. plot (x, y, linestyle = 'dashed', marker ='o', label ='Buffalo')\n",
    "plt. plot (x, miami_high , 'd', label ='Miami ')\n",
    "plt. legend ()"
   ]
  },
  {
   "cell_type": "code",
   "execution_count": 37,
   "metadata": {
    "scrolled": false
   },
   "outputs": [
    {
     "ename": "ValueError",
     "evalue": "Invalid linestyle 'dashed '; see docs of Line2D.set_linestyle for valid values",
     "output_type": "error",
     "traceback": [
      "\u001b[1;31m---------------------------------------------------------------------------\u001b[0m",
      "\u001b[1;31mKeyError\u001b[0m                                  Traceback (most recent call last)",
      "\u001b[1;32m~\\Anaconda3\\lib\\site-packages\\matplotlib\\lines.py\u001b[0m in \u001b[0;36mset_linestyle\u001b[1;34m(self, ls)\u001b[0m\n\u001b[0;32m   1090\u001b[0m                 \u001b[1;32mtry\u001b[0m\u001b[1;33m:\u001b[0m\u001b[1;33m\u001b[0m\u001b[1;33m\u001b[0m\u001b[0m\n\u001b[1;32m-> 1091\u001b[1;33m                     \u001b[0mls\u001b[0m \u001b[1;33m=\u001b[0m \u001b[0mls_mapper_r\u001b[0m\u001b[1;33m[\u001b[0m\u001b[0mls\u001b[0m\u001b[1;33m]\u001b[0m\u001b[1;33m\u001b[0m\u001b[1;33m\u001b[0m\u001b[0m\n\u001b[0m\u001b[0;32m   1092\u001b[0m                 \u001b[1;32mexcept\u001b[0m \u001b[0mKeyError\u001b[0m\u001b[1;33m:\u001b[0m\u001b[1;33m\u001b[0m\u001b[1;33m\u001b[0m\u001b[0m\n",
      "\u001b[1;31mKeyError\u001b[0m: 'dashed '",
      "\nDuring handling of the above exception, another exception occurred:\n",
      "\u001b[1;31mValueError\u001b[0m                                Traceback (most recent call last)",
      "\u001b[1;32m<ipython-input-37-f9c9699d4089>\u001b[0m in \u001b[0;36m<module>\u001b[1;34m\u001b[0m\n\u001b[0;32m      1\u001b[0m \u001b[0mmiami_high\u001b[0m \u001b[1;33m=\u001b[0m \u001b[1;33m[\u001b[0m\u001b[1;36m73\u001b[0m \u001b[1;33m,\u001b[0m \u001b[1;36m74\u001b[0m\u001b[1;33m,\u001b[0m \u001b[1;36m75\u001b[0m\u001b[1;33m,\u001b[0m \u001b[1;36m78\u001b[0m\u001b[1;33m,\u001b[0m \u001b[1;36m81\u001b[0m\u001b[1;33m,\u001b[0m \u001b[1;36m84\u001b[0m\u001b[1;33m,\u001b[0m \u001b[1;36m85\u001b[0m\u001b[1;33m,\u001b[0m \u001b[1;36m86\u001b[0m\u001b[1;33m,\u001b[0m \u001b[1;36m85\u001b[0m\u001b[1;33m,\u001b[0m \u001b[1;36m82\u001b[0m\u001b[1;33m,\u001b[0m \u001b[1;36m78\u001b[0m\u001b[1;33m,\u001b[0m \u001b[1;36m76\u001b[0m\u001b[1;33m]\u001b[0m\u001b[1;33m\u001b[0m\u001b[1;33m\u001b[0m\u001b[0m\n\u001b[0;32m      2\u001b[0m \u001b[1;33m\u001b[0m\u001b[0m\n\u001b[1;32m----> 3\u001b[1;33m \u001b[0mplt\u001b[0m\u001b[1;33m.\u001b[0m \u001b[0mplot\u001b[0m \u001b[1;33m(\u001b[0m\u001b[0mx\u001b[0m\u001b[1;33m,\u001b[0m \u001b[0my\u001b[0m\u001b[1;33m,\u001b[0m \u001b[0mls\u001b[0m\u001b[1;33m=\u001b[0m\u001b[1;34m'dashed '\u001b[0m\u001b[1;33m,\u001b[0m \u001b[0mmarker\u001b[0m \u001b[1;33m=\u001b[0m\u001b[1;34m'o'\u001b[0m\u001b[1;33m,\u001b[0m \u001b[0mlabel\u001b[0m \u001b[1;33m=\u001b[0m\u001b[1;34m'Buffalo '\u001b[0m\u001b[1;33m)\u001b[0m\u001b[1;33m\u001b[0m\u001b[1;33m\u001b[0m\u001b[0m\n\u001b[0m\u001b[0;32m      4\u001b[0m \u001b[0mplt\u001b[0m\u001b[1;33m.\u001b[0m \u001b[0mplot\u001b[0m \u001b[1;33m(\u001b[0m\u001b[0mx\u001b[0m\u001b[1;33m,\u001b[0m \u001b[0mmiami_high\u001b[0m \u001b[1;33m,\u001b[0m \u001b[1;34m'd'\u001b[0m\u001b[1;33m,\u001b[0m \u001b[0mlabel\u001b[0m \u001b[1;33m=\u001b[0m\u001b[1;34m'Miami '\u001b[0m\u001b[1;33m)\u001b[0m\u001b[1;33m\u001b[0m\u001b[1;33m\u001b[0m\u001b[0m\n\u001b[0;32m      5\u001b[0m \u001b[0mplt\u001b[0m\u001b[1;33m.\u001b[0m \u001b[0mlegend\u001b[0m \u001b[1;33m(\u001b[0m\u001b[1;33m)\u001b[0m\u001b[1;33m\u001b[0m\u001b[1;33m\u001b[0m\u001b[0m\n",
      "\u001b[1;32m~\\Anaconda3\\lib\\site-packages\\matplotlib\\pyplot.py\u001b[0m in \u001b[0;36mplot\u001b[1;34m(scalex, scaley, data, *args, **kwargs)\u001b[0m\n\u001b[0;32m   2811\u001b[0m     return gca().plot(\n\u001b[0;32m   2812\u001b[0m         *args, scalex=scalex, scaley=scaley, **({\"data\": data} if data\n\u001b[1;32m-> 2813\u001b[1;33m         is not None else {}), **kwargs)\n\u001b[0m\u001b[0;32m   2814\u001b[0m \u001b[1;33m\u001b[0m\u001b[0m\n\u001b[0;32m   2815\u001b[0m \u001b[1;33m\u001b[0m\u001b[0m\n",
      "\u001b[1;32m~\\Anaconda3\\lib\\site-packages\\matplotlib\\__init__.py\u001b[0m in \u001b[0;36minner\u001b[1;34m(ax, data, *args, **kwargs)\u001b[0m\n\u001b[0;32m   1808\u001b[0m                         \u001b[1;34m\"the Matplotlib list!)\"\u001b[0m \u001b[1;33m%\u001b[0m \u001b[1;33m(\u001b[0m\u001b[0mlabel_namer\u001b[0m\u001b[1;33m,\u001b[0m \u001b[0mfunc\u001b[0m\u001b[1;33m.\u001b[0m\u001b[0m__name__\u001b[0m\u001b[1;33m)\u001b[0m\u001b[1;33m,\u001b[0m\u001b[1;33m\u001b[0m\u001b[1;33m\u001b[0m\u001b[0m\n\u001b[0;32m   1809\u001b[0m                         RuntimeWarning, stacklevel=2)\n\u001b[1;32m-> 1810\u001b[1;33m             \u001b[1;32mreturn\u001b[0m \u001b[0mfunc\u001b[0m\u001b[1;33m(\u001b[0m\u001b[0max\u001b[0m\u001b[1;33m,\u001b[0m \u001b[1;33m*\u001b[0m\u001b[0margs\u001b[0m\u001b[1;33m,\u001b[0m \u001b[1;33m**\u001b[0m\u001b[0mkwargs\u001b[0m\u001b[1;33m)\u001b[0m\u001b[1;33m\u001b[0m\u001b[1;33m\u001b[0m\u001b[0m\n\u001b[0m\u001b[0;32m   1811\u001b[0m \u001b[1;33m\u001b[0m\u001b[0m\n\u001b[0;32m   1812\u001b[0m         inner.__doc__ = _add_data_doc(inner.__doc__,\n",
      "\u001b[1;32m~\\Anaconda3\\lib\\site-packages\\matplotlib\\axes\\_axes.py\u001b[0m in \u001b[0;36mplot\u001b[1;34m(self, scalex, scaley, *args, **kwargs)\u001b[0m\n\u001b[0;32m   1609\u001b[0m         \u001b[0mkwargs\u001b[0m \u001b[1;33m=\u001b[0m \u001b[0mcbook\u001b[0m\u001b[1;33m.\u001b[0m\u001b[0mnormalize_kwargs\u001b[0m\u001b[1;33m(\u001b[0m\u001b[0mkwargs\u001b[0m\u001b[1;33m,\u001b[0m \u001b[0mmlines\u001b[0m\u001b[1;33m.\u001b[0m\u001b[0mLine2D\u001b[0m\u001b[1;33m.\u001b[0m\u001b[0m_alias_map\u001b[0m\u001b[1;33m)\u001b[0m\u001b[1;33m\u001b[0m\u001b[1;33m\u001b[0m\u001b[0m\n\u001b[0;32m   1610\u001b[0m \u001b[1;33m\u001b[0m\u001b[0m\n\u001b[1;32m-> 1611\u001b[1;33m         \u001b[1;32mfor\u001b[0m \u001b[0mline\u001b[0m \u001b[1;32min\u001b[0m \u001b[0mself\u001b[0m\u001b[1;33m.\u001b[0m\u001b[0m_get_lines\u001b[0m\u001b[1;33m(\u001b[0m\u001b[1;33m*\u001b[0m\u001b[0margs\u001b[0m\u001b[1;33m,\u001b[0m \u001b[1;33m**\u001b[0m\u001b[0mkwargs\u001b[0m\u001b[1;33m)\u001b[0m\u001b[1;33m:\u001b[0m\u001b[1;33m\u001b[0m\u001b[1;33m\u001b[0m\u001b[0m\n\u001b[0m\u001b[0;32m   1612\u001b[0m             \u001b[0mself\u001b[0m\u001b[1;33m.\u001b[0m\u001b[0madd_line\u001b[0m\u001b[1;33m(\u001b[0m\u001b[0mline\u001b[0m\u001b[1;33m)\u001b[0m\u001b[1;33m\u001b[0m\u001b[1;33m\u001b[0m\u001b[0m\n\u001b[0;32m   1613\u001b[0m             \u001b[0mlines\u001b[0m\u001b[1;33m.\u001b[0m\u001b[0mappend\u001b[0m\u001b[1;33m(\u001b[0m\u001b[0mline\u001b[0m\u001b[1;33m)\u001b[0m\u001b[1;33m\u001b[0m\u001b[1;33m\u001b[0m\u001b[0m\n",
      "\u001b[1;32m~\\Anaconda3\\lib\\site-packages\\matplotlib\\axes\\_base.py\u001b[0m in \u001b[0;36m_grab_next_args\u001b[1;34m(self, *args, **kwargs)\u001b[0m\n\u001b[0;32m    391\u001b[0m                 \u001b[0mthis\u001b[0m \u001b[1;33m+=\u001b[0m \u001b[0margs\u001b[0m\u001b[1;33m[\u001b[0m\u001b[1;36m0\u001b[0m\u001b[1;33m]\u001b[0m\u001b[1;33m,\u001b[0m\u001b[1;33m\u001b[0m\u001b[1;33m\u001b[0m\u001b[0m\n\u001b[0;32m    392\u001b[0m                 \u001b[0margs\u001b[0m \u001b[1;33m=\u001b[0m \u001b[0margs\u001b[0m\u001b[1;33m[\u001b[0m\u001b[1;36m1\u001b[0m\u001b[1;33m:\u001b[0m\u001b[1;33m]\u001b[0m\u001b[1;33m\u001b[0m\u001b[1;33m\u001b[0m\u001b[0m\n\u001b[1;32m--> 393\u001b[1;33m             \u001b[1;32myield\u001b[0m \u001b[1;32mfrom\u001b[0m \u001b[0mself\u001b[0m\u001b[1;33m.\u001b[0m\u001b[0m_plot_args\u001b[0m\u001b[1;33m(\u001b[0m\u001b[0mthis\u001b[0m\u001b[1;33m,\u001b[0m \u001b[0mkwargs\u001b[0m\u001b[1;33m)\u001b[0m\u001b[1;33m\u001b[0m\u001b[1;33m\u001b[0m\u001b[0m\n\u001b[0m\u001b[0;32m    394\u001b[0m \u001b[1;33m\u001b[0m\u001b[0m\n\u001b[0;32m    395\u001b[0m \u001b[1;33m\u001b[0m\u001b[0m\n",
      "\u001b[1;32m~\\Anaconda3\\lib\\site-packages\\matplotlib\\axes\\_base.py\u001b[0m in \u001b[0;36m_plot_args\u001b[1;34m(self, tup, kwargs)\u001b[0m\n\u001b[0;32m    381\u001b[0m                                   \"with non-matching shapes is deprecated.\")\n\u001b[0;32m    382\u001b[0m         \u001b[1;32mfor\u001b[0m \u001b[0mj\u001b[0m \u001b[1;32min\u001b[0m \u001b[0mrange\u001b[0m\u001b[1;33m(\u001b[0m\u001b[0mmax\u001b[0m\u001b[1;33m(\u001b[0m\u001b[0mncx\u001b[0m\u001b[1;33m,\u001b[0m \u001b[0mncy\u001b[0m\u001b[1;33m)\u001b[0m\u001b[1;33m)\u001b[0m\u001b[1;33m:\u001b[0m\u001b[1;33m\u001b[0m\u001b[1;33m\u001b[0m\u001b[0m\n\u001b[1;32m--> 383\u001b[1;33m             \u001b[0mseg\u001b[0m \u001b[1;33m=\u001b[0m \u001b[0mfunc\u001b[0m\u001b[1;33m(\u001b[0m\u001b[0mx\u001b[0m\u001b[1;33m[\u001b[0m\u001b[1;33m:\u001b[0m\u001b[1;33m,\u001b[0m \u001b[0mj\u001b[0m \u001b[1;33m%\u001b[0m \u001b[0mncx\u001b[0m\u001b[1;33m]\u001b[0m\u001b[1;33m,\u001b[0m \u001b[0my\u001b[0m\u001b[1;33m[\u001b[0m\u001b[1;33m:\u001b[0m\u001b[1;33m,\u001b[0m \u001b[0mj\u001b[0m \u001b[1;33m%\u001b[0m \u001b[0mncy\u001b[0m\u001b[1;33m]\u001b[0m\u001b[1;33m,\u001b[0m \u001b[0mkw\u001b[0m\u001b[1;33m,\u001b[0m \u001b[0mkwargs\u001b[0m\u001b[1;33m)\u001b[0m\u001b[1;33m\u001b[0m\u001b[1;33m\u001b[0m\u001b[0m\n\u001b[0m\u001b[0;32m    384\u001b[0m             \u001b[0mret\u001b[0m\u001b[1;33m.\u001b[0m\u001b[0mappend\u001b[0m\u001b[1;33m(\u001b[0m\u001b[0mseg\u001b[0m\u001b[1;33m)\u001b[0m\u001b[1;33m\u001b[0m\u001b[1;33m\u001b[0m\u001b[0m\n\u001b[0;32m    385\u001b[0m         \u001b[1;32mreturn\u001b[0m \u001b[0mret\u001b[0m\u001b[1;33m\u001b[0m\u001b[1;33m\u001b[0m\u001b[0m\n",
      "\u001b[1;32m~\\Anaconda3\\lib\\site-packages\\matplotlib\\axes\\_base.py\u001b[0m in \u001b[0;36m_makeline\u001b[1;34m(self, x, y, kw, kwargs)\u001b[0m\n\u001b[0;32m    286\u001b[0m         \u001b[0mdefault_dict\u001b[0m \u001b[1;33m=\u001b[0m \u001b[0mself\u001b[0m\u001b[1;33m.\u001b[0m\u001b[0m_getdefaults\u001b[0m\u001b[1;33m(\u001b[0m\u001b[1;32mNone\u001b[0m\u001b[1;33m,\u001b[0m \u001b[0mkw\u001b[0m\u001b[1;33m)\u001b[0m\u001b[1;33m\u001b[0m\u001b[1;33m\u001b[0m\u001b[0m\n\u001b[0;32m    287\u001b[0m         \u001b[0mself\u001b[0m\u001b[1;33m.\u001b[0m\u001b[0m_setdefaults\u001b[0m\u001b[1;33m(\u001b[0m\u001b[0mdefault_dict\u001b[0m\u001b[1;33m,\u001b[0m \u001b[0mkw\u001b[0m\u001b[1;33m)\u001b[0m\u001b[1;33m\u001b[0m\u001b[1;33m\u001b[0m\u001b[0m\n\u001b[1;32m--> 288\u001b[1;33m         \u001b[0mseg\u001b[0m \u001b[1;33m=\u001b[0m \u001b[0mmlines\u001b[0m\u001b[1;33m.\u001b[0m\u001b[0mLine2D\u001b[0m\u001b[1;33m(\u001b[0m\u001b[0mx\u001b[0m\u001b[1;33m,\u001b[0m \u001b[0my\u001b[0m\u001b[1;33m,\u001b[0m \u001b[1;33m**\u001b[0m\u001b[0mkw\u001b[0m\u001b[1;33m)\u001b[0m\u001b[1;33m\u001b[0m\u001b[1;33m\u001b[0m\u001b[0m\n\u001b[0m\u001b[0;32m    289\u001b[0m         \u001b[1;32mreturn\u001b[0m \u001b[0mseg\u001b[0m\u001b[1;33m\u001b[0m\u001b[1;33m\u001b[0m\u001b[0m\n\u001b[0;32m    290\u001b[0m \u001b[1;33m\u001b[0m\u001b[0m\n",
      "\u001b[1;32m~\\Anaconda3\\lib\\site-packages\\matplotlib\\lines.py\u001b[0m in \u001b[0;36m__init__\u001b[1;34m(self, xdata, ydata, linewidth, linestyle, color, marker, markersize, markeredgewidth, markeredgecolor, markerfacecolor, markerfacecoloralt, fillstyle, antialiased, dash_capstyle, solid_capstyle, dash_joinstyle, solid_joinstyle, pickradius, drawstyle, markevery, **kwargs)\u001b[0m\n\u001b[0;32m    379\u001b[0m \u001b[1;33m\u001b[0m\u001b[0m\n\u001b[0;32m    380\u001b[0m         \u001b[0mself\u001b[0m\u001b[1;33m.\u001b[0m\u001b[0mset_linewidth\u001b[0m\u001b[1;33m(\u001b[0m\u001b[0mlinewidth\u001b[0m\u001b[1;33m)\u001b[0m\u001b[1;33m\u001b[0m\u001b[1;33m\u001b[0m\u001b[0m\n\u001b[1;32m--> 381\u001b[1;33m         \u001b[0mself\u001b[0m\u001b[1;33m.\u001b[0m\u001b[0mset_linestyle\u001b[0m\u001b[1;33m(\u001b[0m\u001b[0mlinestyle\u001b[0m\u001b[1;33m)\u001b[0m\u001b[1;33m\u001b[0m\u001b[1;33m\u001b[0m\u001b[0m\n\u001b[0m\u001b[0;32m    382\u001b[0m         \u001b[0mself\u001b[0m\u001b[1;33m.\u001b[0m\u001b[0mset_drawstyle\u001b[0m\u001b[1;33m(\u001b[0m\u001b[0mdrawstyle\u001b[0m\u001b[1;33m)\u001b[0m\u001b[1;33m\u001b[0m\u001b[1;33m\u001b[0m\u001b[0m\n\u001b[0;32m    383\u001b[0m \u001b[1;33m\u001b[0m\u001b[0m\n",
      "\u001b[1;32m~\\Anaconda3\\lib\\site-packages\\matplotlib\\lines.py\u001b[0m in \u001b[0;36mset_linestyle\u001b[1;34m(self, ls)\u001b[0m\n\u001b[0;32m   1093\u001b[0m                     raise ValueError(\"Invalid linestyle {!r}; see docs of \"\n\u001b[0;32m   1094\u001b[0m                                      \u001b[1;34m\"Line2D.set_linestyle for valid values\"\u001b[0m\u001b[1;33m\u001b[0m\u001b[1;33m\u001b[0m\u001b[0m\n\u001b[1;32m-> 1095\u001b[1;33m                                      .format(ls))\n\u001b[0m\u001b[0;32m   1096\u001b[0m             \u001b[0mself\u001b[0m\u001b[1;33m.\u001b[0m\u001b[0m_linestyle\u001b[0m \u001b[1;33m=\u001b[0m \u001b[0mls\u001b[0m\u001b[1;33m\u001b[0m\u001b[1;33m\u001b[0m\u001b[0m\n\u001b[0;32m   1097\u001b[0m         \u001b[1;32melse\u001b[0m\u001b[1;33m:\u001b[0m\u001b[1;33m\u001b[0m\u001b[1;33m\u001b[0m\u001b[0m\n",
      "\u001b[1;31mValueError\u001b[0m: Invalid linestyle 'dashed '; see docs of Line2D.set_linestyle for valid values"
     ]
    },
    {
     "data": {
      "image/png": "[encoded data removed]",
      "text/plain": [
       "<Figure size 432x288 with 1 Axes>"
      ]
     },
     "metadata": {
      "needs_background": "light"
     },
     "output_type": "display_data"
    }
   ],
   "source": [
    "miami_high = [73 , 74, 75, 78, 81, 84, 85, 86, 85, 82, 78, 76]\n",
    "\n",
    "plt. plot (x, y, ls='dashed ', marker ='o', label ='Buffalo ')\n",
    "plt. plot (x, miami_high , 'd', label ='Miami ')\n",
    "plt. legend ()"
   ]
  },
  {
   "cell_type": "code",
   "execution_count": 64,
   "metadata": {},
   "outputs": [
    {
     "data": {
      "image/png": "[encoded data removed]",
      "text/plain": [
       "<Figure size 432x288 with 1 Axes>"
      ]
     },
     "metadata": {
      "needs_background": "light"
     },
     "output_type": "display_data"
    }
   ],
   "source": [
    "import matplotlib.pyplot as plt\n",
    "\n",
    "city = ['Buffalo', 'Dallas', 'Los Angeles', 'St. Louis']\n",
    "x = [5, 2, 15, 3]\n",
    "y = [3, 1, 5, 2]\n",
    "demand = [5000, 9000, 10000, 3000]\n",
    "\n",
    "plt.title('Widget Demand')\n",
    "plt.scatter(x, y, s = demand)\n",
    "plt.show()"
   ]
  },
  {
   "cell_type": "code",
   "execution_count": null,
   "metadata": {},
   "outputs": [],
   "source": []
  },
  {
   "cell_type": "code",
   "execution_count": 65,
   "metadata": {},
   "outputs": [
    {
     "data": {
      "image/png": "[encoded data removed]",
      "text/plain": [
       "<Figure size 432x288 with 1 Axes>"
      ]
     },
     "metadata": {
      "needs_background": "light"
     },
     "output_type": "display_data"
    }
   ],
   "source": [
    "colors = []\n",
    "for i in range(0, len(demand)):\n",
    "    colors.append(demand[i]/float(max(demand)))\n",
    "plt.scatter(x, y, s = demand, c = colors, alpha = 0.5)\n",
    "\n",
    "for i in range(0, len(city)):\n",
    "    myx = x[i]\n",
    "    myy = y[i]\n",
    "    mycity = city[i]\n",
    "    \n",
    "# Centralize it by adding horizontal and vertical aligntment to \"center\" \n",
    "    plt.text(myx,myy, mycity, color = \"red\", fontsize = 12, horizontalalignment = \"center\", verticalalignment = \"center\")\n"
   ]
  },
  {
   "cell_type": "code",
   "execution_count": 66,
   "metadata": {},
   "outputs": [
    {
     "data": {
      "text/plain": [
       "<BarContainer object of 12 artists>"
      ]
     },
     "execution_count": 66,
     "metadata": {},
     "output_type": "execute_result"
    },
    {
     "data": {
      "image/png": "[encoded data removed]",
      "text/plain": [
       "<Figure size 432x288 with 1 Axes>"
      ]
     },
     "metadata": {
      "needs_background": "light"
     },
     "output_type": "display_data"
    }
   ],
   "source": [
    "import matplotlib.pyplot as plt\n",
    "\n",
    "y = [31, 31, 41, 52, 63, 73, 79, 78, 70, 58, 48, 35]\n",
    "x = list(range(1, 13))\n",
    "months = ['Jan', 'Feb', 'Mar', 'Apr', 'May', 'Jun','Jul', 'Aug', 'Sep', 'Oct', 'Nov', 'Dec']\n",
    "plt.bar(x, y, tick_label = months, width = 0.8)\n"
   ]
  },
  {
   "cell_type": "code",
   "execution_count": 80,
   "metadata": {},
   "outputs": [
    {
     "name": "stdout",
     "output_type": "stream",
     "text": [
      "[0. 0. 0. 3. 2. 2. 1. 4. 0. 0.]\n",
      "[  0  10  20  30  40  50  60  70  80  90 100]\n",
      "<a list of 10 Patch objects>\n"
     ]
    },
    {
     "data": {
      "image/png": "[encoded data removed]",
      "text/plain": [
       "<Figure size 432x288 with 1 Axes>"
      ]
     },
     "metadata": {
      "needs_background": "light"
     },
     "output_type": "display_data"
    }
   ],
   "source": [
    "import matplotlib.pyplot as plt\n",
    "\n",
    "y = [31, 31, 41, 52, 63, 73, 79, 78, 70, 58, 48, 35]\n",
    "x = list(range(1,13))\n",
    "\n",
    "#n, bins, patches = plt.hist(y, bins = 3, density = False, facecolor = 'g', alpha = 0.75)\n",
    "n, bins, patches = plt.hist(y, bins = range(0,110,10), density=False, facecolor='g', alpha=0.75)\n",
    "print(n)\n",
    "print(bins)\n",
    "print(patches)"
   ]
  },
  {
   "cell_type": "code",
   "execution_count": 120,
   "metadata": {},
   "outputs": [],
   "source": [
    "import numpy as np"
   ]
  },
  {
   "cell_type": "code",
   "execution_count": 123,
   "metadata": {},
   "outputs": [
    {
     "data": {
      "text/plain": [
       "{'whiskers': [<matplotlib.lines.Line2D at 0x1d2dc83feb8>,\n",
       "  <matplotlib.lines.Line2D at 0x1d2dc83ff98>],\n",
       " 'caps': [<matplotlib.lines.Line2D at 0x1d2dc8495c0>,\n",
       "  <matplotlib.lines.Line2D at 0x1d2dc849908>],\n",
       " 'boxes': [<matplotlib.lines.Line2D at 0x1d2dc83fac8>],\n",
       " 'medians': [<matplotlib.lines.Line2D at 0x1d2dc849c50>],\n",
       " 'fliers': [<matplotlib.lines.Line2D at 0x1d2dc849f98>],\n",
       " 'means': []}"
      ]
     },
     "execution_count": 123,
     "metadata": {},
     "output_type": "execute_result"
    },
    {
     "data": {
      "image/png": "[encoded data removed]",
      "text/plain": [
       "<Figure size 432x288 with 1 Axes>"
      ]
     },
     "metadata": {
      "needs_background": "light"
     },
     "output_type": "display_data"
    }
   ],
   "source": [
    "np.random.seed(19680801)\n",
    "\n",
    "spread = np.random.rand(50) * 100\n",
    "center = np.ones(25) * 50\n",
    "\n",
    "flier_high = np.random.rand(10) * 100 + 100\n",
    "flier_low = np.random.rand(10) * -100\n",
    "data = np.concatenate((spread, center, flier_high, flier_low))\n",
    "\n",
    "fig1, ax1 = plt.subplots()\n",
    "ax1.set_title('Basic Plot')\n",
    "ax1.boxplot(data)"
   ]
  },
  {
   "cell_type": "code",
   "execution_count": null,
   "metadata": {},
   "outputs": [],
   "source": []
  }
 ],
 "metadata": {
  "kernelspec": {
   "display_name": "Python 3",
   "language": "python",
   "name": "python3"
  },
  "language_info": {
   "codemirror_mode": {
    "name": "ipython",
    "version": 3
   },
   "file_extension": ".py",
   "mimetype": "text/x-python",
   "name": "python",
   "nbconvert_exporter": "python",
   "pygments_lexer": "ipython3",
   "version": "3.7.1"
  }
 },
 "nbformat": 4,
 "nbformat_minor": 2
}
